{
 "cells": [
  {
   "cell_type": "code",
   "execution_count": null,
   "id": "f031a0f7",
   "metadata": {},
   "outputs": [],
   "source": [
    "# Import statements\n",
    "import subprocess\n",
    "import os\n",
    "import json\n",
    "\n",
    "import pandas as pd\n",
    "import statsmodels.api as sm\n",
    "\n",
    "from IPython.display import display, Image, Markdown"
   ]
  },
  {
   "cell_type": "code",
   "execution_count": 2,
   "id": "8ca96b27",
   "metadata": {},
   "outputs": [],
   "source": [
    "# Hardset vars\n",
    "dataset_path = \"data/processed/labeled_asset_dataset_enriched.csv\"\n",
    "config_path = \"config/generation_params.json\"\n",
    "alt_config = \"config/alt_scenario_generation_params.json\""
   ]
  },
  {
   "cell_type": "code",
   "execution_count": 3,
   "id": "04486bf1",
   "metadata": {},
   "outputs": [],
   "source": [
    "# Utility functions for running the MLflow pipeline, resetting it, and displaying results\n",
    "def reset_pipeline():\n",
    "    \"\"\"Reset the pipeline by running the reset_pipeline.py script.\"\"\"\n",
    "    result = subprocess.run(\n",
    "        [\"python\", \"scripts/reset_pipeline.py\"],\n",
    "        capture_output=True,\n",
    "        text=True,\n",
    "        encoding=\"utf-8\",\n",
    "        errors=\"replace\"  # prevent crashes from non-UTF-8 characters\n",
    "    )\n",
    "\n",
    "    print(result.stdout)\n",
    "    if result.stderr:\n",
    "        print(result.stderr)\n",
    "\n",
    "\n",
    "def display_config(config_path):\n",
    "    \"\"\"Load and display the contents of a configuration file as formatted JSON.\"\"\"\n",
    "    if not os.path.exists(config_path):\n",
    "        print(f\"⚠️ Config file not found: {config_path}\")\n",
    "        return\n",
    "\n",
    "    with open(config_path, \"r\") as f:\n",
    "        params = json.load(f)\n",
    "\n",
    "    display(Markdown(f\"### Contents of `{config_path}`:\"))\n",
    "    display(Markdown(f\"```json\\n{json.dumps(params, indent=4)}\\n```\"))\n",
    "\n",
    "\n",
    "def run_pipeline(dataset_path, alt_config=None, steps=None):\n",
    "    \"\"\"\n",
    "    Run the MLflow pipeline fully or step-by-step.\n",
    "    \n",
    "    Args:\n",
    "        dataset_path (str): Path to the dataset CSV.\n",
    "        alt_config (str, optional): Alternate config file for the generate step.\n",
    "        steps (list, optional): Specific pipeline steps to run. \n",
    "                                If None, runs the full pipeline entry point.\n",
    "    \"\"\"\n",
    "    # Determine processed_dir based on dataset_path\n",
    "    processed_dir = os.path.dirname(dataset_path)\n",
    "\n",
    "    # Ensure processed_dir exists\n",
    "    os.makedirs(processed_dir, exist_ok=True)\n",
    "\n",
    "    # If dataset exists and no steps were specified, just load the data\n",
    "    if steps is None:\n",
    "        try:\n",
    "            df = pd.read_csv(dataset_path)\n",
    "            print(\"✅ Dataset loaded.\")\n",
    "            return df\n",
    "        except FileNotFoundError:\n",
    "            print(f\"⚠️ {dataset_path} not found. Running full MLflow pipeline...\")\n",
    "            result = subprocess.run(\n",
    "                [\n",
    "                    \"mlflow\", \"run\", \".\", \"-e\", \"pipeline\", \"--env-manager=local\",\n",
    "                    \"-P\", f\"processed_dir={processed_dir}\"\n",
    "                ],\n",
    "                capture_output=True, text=True, encoding=\"utf-8\", errors=\"replace\"\n",
    "            )\n",
    "            print(result.stdout)\n",
    "            if result.returncode != 0:\n",
    "                print(\"❌ Full MLflow pipeline failed.\")\n",
    "                raise RuntimeError(\"Pipeline execution failed.\")\n",
    "            if os.path.exists(dataset_path):\n",
    "                print(\"✅ Dataset generated and loaded.\")\n",
    "                return pd.read_csv(dataset_path)\n",
    "            else:\n",
    "                raise FileNotFoundError(f\"Dataset still not found at {dataset_path} after pipeline run.\")\n",
    "    else:\n",
    "        # Step-by-step pipeline execution\n",
    "        step_cmds = []\n",
    "        for step in steps:\n",
    "            if step == \"generate\":\n",
    "                cmd = [\n",
    "                    \"mlflow\", \"run\", \".\", \"-e\", \"generate\", \"--env-manager=local\"\n",
    "                ]\n",
    "                if alt_config:\n",
    "                    cmd.extend([\"-P\", f\"config={alt_config}\"])\n",
    "                step_cmds.append((\"Generate\", cmd))\n",
    "            elif step == \"prepare\":\n",
    "                cmd = [\n",
    "                    \"mlflow\", \"run\", \".\", \"-e\", \"prepare\", \"--env-manager=local\",\n",
    "                    \"-P\", f\"processed_dir={processed_dir}\"\n",
    "                ]\n",
    "                step_cmds.append((\"Prepare\", cmd))\n",
    "            elif step == \"train-both\":\n",
    "                step_cmds.append((\"Train Both\", [\"mlflow\", \"run\", \".\", \"-e\", \"train-both\", \"--env-manager=local\"]))\n",
    "            else:\n",
    "                print(f\"⚠️ Unknown step: {step}\")\n",
    "\n",
    "        for name, cmd in step_cmds:\n",
    "            print(f\"\\n--- Running: {name} ---\\n{' '.join(cmd)}\\n\")\n",
    "            result = subprocess.run(cmd, capture_output=True, text=True, encoding=\"utf-8\", errors=\"replace\")\n",
    "            print(result.stdout)\n",
    "            if result.returncode != 0:\n",
    "                print(f\"❌ Step '{name}' failed. Check the output above.\")\n",
    "                break\n",
    "            else:\n",
    "                print(f\"✅ Step '{name}' completed.\\n\")\n",
    "\n",
    "        # Reload dataset after step execution if it exists\n",
    "        if os.path.exists(dataset_path):\n",
    "            return pd.read_csv(dataset_path)\n",
    "        else:\n",
    "            print(\"⚠️ Dataset not found after pipeline steps.\")\n",
    "            return None\n",
    "\n",
    "\n",
    "def calculate_presence_stats(df):\n",
    "    \"\"\"Calculate asset presence counts and percentages across Inventory and IPAM.\"\"\"\n",
    "    total_assets = len(df)\n",
    "    present_inventory = (df[\"missing_in_inventory\"] == 0).sum()\n",
    "    present_ipam = (df[\"missing_in_ipam\"] == 0).sum()\n",
    "    present_all = ((df[\"missing_in_inventory\"] == 0) & (df[\"missing_in_ipam\"] == 0)).sum()\n",
    "\n",
    "    return {\n",
    "        \"total_assets\": total_assets,\n",
    "        \"present_inventory\": present_inventory,\n",
    "        \"pct_inventory\": present_inventory / total_assets * 100,\n",
    "        \"present_ipam\": present_ipam,\n",
    "        \"pct_ipam\": present_ipam / total_assets * 100,\n",
    "        \"present_all\": present_all,\n",
    "        \"pct_all\": present_all / total_assets * 100\n",
    "    }\n",
    "\n",
    "\n",
    "def display_presence_summary(stats, scenario_name):\n",
    "    \"\"\"Display a quick summary of asset presence counts and percentages.\"\"\"\n",
    "    print(f\"\\n=== {scenario_name} Presence Summary ===\")\n",
    "    print(f\"Total Observability Assets: {stats['total_assets']:,}\")\n",
    "    print(f\"Present in Inventory: {stats['present_inventory']:,} ({stats['pct_inventory']:.1f}%)\")\n",
    "    print(f\"Present in IPAM: {stats['present_ipam']:,} ({stats['pct_ipam']:.1f}%)\")\n",
    "    print(f\"Present in BOTH: {stats['present_all']:,} ({stats['pct_all']:.1f}%)\")\n",
    "\n",
    "    summary = pd.DataFrame({\n",
    "        \"Metric\": [\"Present in Inventory\", \"Present in IPAM\", \"Present in BOTH\"],\n",
    "        \"Count\": [stats[\"present_inventory\"], stats[\"present_ipam\"], stats[\"present_all\"]],\n",
    "        \"Percent\": [stats[\"pct_inventory\"], stats[\"pct_ipam\"], stats[\"pct_all\"]]\n",
    "    })\n",
    "    display(summary)\n",
    "\n",
    "\n",
    "def run_completeness_test(present_both, total_assets, threshold=0.75, alpha=0.05):\n",
    "    stat, p_value = sm.stats.proportions_ztest(\n",
    "        count=present_both,\n",
    "        nobs=total_assets,\n",
    "        value=threshold,\n",
    "        alternative=\"larger\"\n",
    "    )\n",
    "    return stat, p_value, p_value <= alpha\n",
    "\n",
    "    \n",
    "def evaluate_completeness(stats, scenario_name):\n",
    "    \"\"\"Run and display the completeness statistical test in a clean format.\"\"\"\n",
    "    z_stat, p_value, significant = run_completeness_test(stats[\"present_all\"], stats[\"total_assets\"])\n",
    "    result_text = \"✅ Reject H₀ – completeness is statistically significant.\" if significant else \"❌ Fail to reject H₀ – completeness is not statistically significant.\"\n",
    "\n",
    "    display(Markdown(f\"\"\"\n",
    "### Completeness Statistical Test ({scenario_name})\n",
    "\n",
    "| Metric               | Value                |\n",
    "|----------------------|----------------------|\n",
    "| Null Hypothesis (H₀) | Completeness ≤ 75%   |\n",
    "| Alternative (H₁)     | Completeness > 75%   |\n",
    "| Observed Rate        | {stats['pct_all']:.2f}% |\n",
    "| Z-statistic          | {z_stat:.4f}        |\n",
    "| P-value              | {p_value:.4e}       |\n",
    "| Alpha (α)            | 0.05               |\n",
    "| Result               | {result_text}       |\n",
    "\"\"\"))\n",
    "\n",
    "\n",
    "# define a function to evaluate model performance\n",
    "def evaluate_model(report_path, model_name, benchmark_f1=0.80):\n",
    "    \"\"\"Evaluate model performance against the success benchmark.\"\"\"\n",
    "    if not os.path.exists(report_path):\n",
    "        return {\n",
    "            \"model\": model_name,\n",
    "            \"f1_score\": None,\n",
    "            \"accuracy\": None,\n",
    "            \"result\": f\"⚠️ No report found for {model_name}\"\n",
    "        }\n",
    "    \n",
    "    with open(report_path, \"r\") as f:\n",
    "        report = json.load(f)\n",
    "    \n",
    "    f1_score = report[\"weighted avg\"][\"f1-score\"]\n",
    "    accuracy = report[\"accuracy\"]\n",
    "    result = \"✅ Meets benchmark\" if f1_score >= benchmark_f1 else \"❌ Below benchmark\"\n",
    "    \n",
    "    return {\n",
    "        \"model\": model_name,\n",
    "        \"f1_score\": f1_score,\n",
    "        \"accuracy\": accuracy,\n",
    "        \"result\": result\n",
    "    }\n",
    "    \n",
    "\n",
    "def format_metric(value, percent=False):\n",
    "    \"\"\"Safely format metrics for display.\"\"\"\n",
    "    if value is None:\n",
    "        return \"N/A\"\n",
    "    return f\"{value:.2%}\" if percent else f\"{value:.2f}\"\n",
    "\n",
    "\n",
    "def evaluate_models(inventory_report, ipam_report, scenario_name=None):\n",
    "    \"\"\"Evaluate and display predictive model performance in a clean table format.\"\"\"\n",
    "    inventory_eval = evaluate_model(inventory_report, \"Inventory Model\")\n",
    "    ipam_eval = evaluate_model(ipam_report, \"IPAM Model\")\n",
    "\n",
    "    scenario_title = f\" ({scenario_name})\" if scenario_name else \"\"\n",
    "\n",
    "    display(Markdown(f\"\"\"\n",
    "### Predictive Model Evaluation{scenario_title}\n",
    "\n",
    "| Model            | Accuracy | Weighted F1-Score | Result            |\n",
    "|------------------|----------|-------------------|-------------------|\n",
    "| {inventory_eval['model']} | {format_metric(inventory_eval['accuracy'], percent=True)} | {format_metric(inventory_eval['f1_score'])} | {inventory_eval['result']} |\n",
    "| {ipam_eval['model']}      | {format_metric(ipam_eval['accuracy'], percent=True)} | {format_metric(ipam_eval['f1_score'])} | {ipam_eval['result']} |\n",
    "\n",
    "**Benchmark:** F1-Score ≥ 0.80 required for success.\n",
    "\"\"\"))\n",
    "\n",
    "\n",
    "def display_report_images(scenario_name):\n",
    "    \"\"\"Display generated report images from the pipeline.\"\"\"\n",
    "    reports_dir = \"reports\"\n",
    "    image_extensions = ('.png', '.jpg', '.jpeg', '.gif')\n",
    "    found_images = []\n",
    "\n",
    "    for root, _, files in os.walk(reports_dir):\n",
    "        for file in files:\n",
    "            if file.lower().endswith(image_extensions):\n",
    "                found_images.append(os.path.join(root, file))\n",
    "\n",
    "    if found_images:\n",
    "        display(Markdown(f\"### Generated Report Images ({scenario_name})\"))\n",
    "        for img_path in found_images:\n",
    "            rel_path = os.path.relpath(img_path, reports_dir)\n",
    "            display(Markdown(f\"**{rel_path}**\"))\n",
    "            display(Image(filename=img_path))\n",
    "    else:\n",
    "        print(f\"No report images found in '{reports_dir}' for {scenario_name}.\")\n",
    "\n",
    "\n",
    "def display_conclusion(stats, scenario_name, completeness_significant, inventory_eval, ipam_eval, key_features=None):\n",
    "    \"\"\"Generate and display a comprehensive conclusion summary for a scenario.\"\"\"\n",
    "    meets_threshold = stats['pct_all'] >= 75\n",
    "    threshold_text = \"meets\" if meets_threshold else \"does not meet\"\n",
    "    significance_text = (\n",
    "        \"is statistically significant\" if completeness_significant else \"is not statistically significant\"\n",
    "    )\n",
    "\n",
    "    inv_model_text = \"met\" if inventory_eval[\"f1_score\"] and inventory_eval[\"f1_score\"] >= 0.80 else \"did not meet\"\n",
    "    ipam_model_text = \"met\" if ipam_eval[\"f1_score\"] and ipam_eval[\"f1_score\"] >= 0.80 else \"did not meet\"\n",
    "\n",
    "    conclusion_md = f\"\"\"\n",
    "## Conclusion ({scenario_name})\n",
    "\n",
    "The analysis confirms that the original asset presence rate across systems **{threshold_text}** the 75% threshold and {significance_text} based on the statistical test.\n",
    "\n",
    "Out of **{stats['total_assets']:,}** observability assets:\n",
    "- **{stats['present_inventory']:,}** ({stats['pct_inventory']:.1f}%) were found in the Inventory system.\n",
    "- **{stats['present_ipam']:,}** ({stats['pct_ipam']:.1f}%) were found in IPAM.\n",
    "- **{stats['present_all']:,}** ({stats['pct_all']:.1f}%) were present in both systems.\n",
    "\n",
    "Model performance evaluation:\n",
    "- The Inventory model **{inv_model_text}** the benchmark (F1 ≥ 0.80).\n",
    "- The IPAM model **{ipam_model_text}** the benchmark (F1 ≥ 0.80).\n",
    "\n",
    "\"\"\"\n",
    "    if key_features:\n",
    "        conclusion_md += f\"Key features driving missingness include: **{', '.join(key_features)}**.\\n\\n\"\n",
    "\n",
    "    conclusion_md += \"\"\"Beyond validating data completeness, these insights enable the organization to focus audit efforts \n",
    "on specific processes, automation, or staff actions most likely to cause data gaps. \n",
    "This data-driven approach not only supports immediate project goals but also lays the groundwork for \n",
    "long-term improvements in asset data quality and system reliability.\n",
    "\"\"\"\n",
    "    display(Markdown(conclusion_md))"
   ]
  },
  {
   "cell_type": "code",
   "execution_count": 4,
   "id": "55fa04b2",
   "metadata": {},
   "outputs": [
    {
     "name": "stdout",
     "output_type": "stream",
     "text": [
      "🔄 Cleaning up pipeline artifacts...\n",
      "🧹 Removed directory: data\n",
      "🧹 Removed directory: mlruns\n",
      "🧹 Removed directory: models\n",
      "🧹 Removed directory: reports\n",
      "⚠️ Directory not found: __pycache__\n",
      "✅ Cleanup complete.\n",
      "\n"
     ]
    }
   ],
   "source": [
    "# Reset the pipeline (cleans data, mlruns, models, reports)\n",
    "reset_pipeline()"
   ]
  },
  {
   "cell_type": "code",
   "execution_count": 5,
   "id": "75f2d911",
   "metadata": {},
   "outputs": [
    {
     "data": {
      "text/markdown": [
       "### Contents of `config/generation_params.json`:"
      ],
      "text/plain": [
       "<IPython.core.display.Markdown object>"
      ]
     },
     "metadata": {},
     "output_type": "display_data"
    },
    {
     "data": {
      "text/markdown": [
       "```json\n",
       "{\n",
       "    \"IPAM_REGION_MISSING_PROBS\": {\n",
       "        \"northeast\": 0.3,\n",
       "        \"northwest\": 0.01,\n",
       "        \"central\": 0.01,\n",
       "        \"east\": 0.02,\n",
       "        \"west\": 0.05,\n",
       "        \"southeast\": 0.03,\n",
       "        \"southwest\": 0.01\n",
       "    },\n",
       "    \"INVENTORY_MODEL_MISSING_PROBS\": {\n",
       "        \"ISR4431\": 0.5,\n",
       "        \"SRX345\": 0.6,\n",
       "        \"ETX-2\": 0.4,\n",
       "        \"MX204\": 0.01,\n",
       "        \"NCS540\": 0.05,\n",
       "        \"7750 SR-1\": 0.01,\n",
       "        \"7280R\": 0.03,\n",
       "        \"FSP3000\": 0.1,\n",
       "        \"FSP150\": 0.1,\n",
       "        \"QFX5120\": 0.05,\n",
       "        \"7050X3\": 0.02,\n",
       "        \"Catalyst9300\": 0.03\n",
       "    },\n",
       "    \"DEFAULT_MODEL_FAILURE_PROB\": 0.1,\n",
       "    \"DEFAULT_REGION_FAILURE_PROB\": 0.1\n",
       "}\n",
       "```"
      ],
      "text/plain": [
       "<IPython.core.display.Markdown object>"
      ]
     },
     "metadata": {},
     "output_type": "display_data"
    }
   ],
   "source": [
    "display_config(config_path)"
   ]
  },
  {
   "cell_type": "code",
   "execution_count": 6,
   "id": "440da52d",
   "metadata": {},
   "outputs": [
    {
     "name": "stdout",
     "output_type": "stream",
     "text": [
      "⚠️ data/processed/labeled_asset_dataset_enriched.csv not found. Running full MLflow pipeline...\n",
      "[DEBUG] Pipeline received config: config/generation_params.json\n",
      "✅ Enriched dataset written to: data/processed\\labeled_asset_dataset_enriched.csv\n",
      "--- Model Report ---\n",
      "              precision    recall  f1-score   support\n",
      "\n",
      "           0       0.91      0.97      0.94      1966\n",
      "           1       0.59      0.32      0.41       284\n",
      "\n",
      "    accuracy                           0.89      2250\n",
      "   macro avg       0.75      0.64      0.67      2250\n",
      "weighted avg       0.87      0.89      0.87      2250\n",
      "\n",
      "--- Model Report ---\n",
      "              precision    recall  f1-score   support\n",
      "\n",
      "           0       0.93      1.00      0.96      2103\n",
      "           1       0.00      0.00      0.00       147\n",
      "\n",
      "    accuracy                           0.93      2250\n",
      "   macro avg       0.47      0.50      0.48      2250\n",
      "weighted avg       0.87      0.93      0.90      2250\n",
      "\n",
      "\n",
      "✅ Dataset generated and loaded.\n"
     ]
    }
   ],
   "source": [
    "# Load the dataset for analysis, if it is not present, trigger a mlflow run using the default pipeline settings\n",
    "df = run_pipeline(dataset_path)"
   ]
  },
  {
   "cell_type": "code",
   "execution_count": 7,
   "id": "d4968bce",
   "metadata": {},
   "outputs": [],
   "source": [
    "# Default scenario stats\n",
    "default_stats = calculate_presence_stats(df)"
   ]
  },
  {
   "cell_type": "code",
   "execution_count": 8,
   "id": "94cfdfa5",
   "metadata": {},
   "outputs": [
    {
     "name": "stdout",
     "output_type": "stream",
     "text": [
      "\n",
      "=== Default Scenario Presence Summary ===\n",
      "Total Observability Assets: 11,246\n",
      "Present in Inventory: 9,826 (87.4%)\n",
      "Present in IPAM: 10,512 (93.5%)\n",
      "Present in BOTH: 9,171 (81.5%)\n"
     ]
    },
    {
     "data": {
      "text/html": [
       "<div>\n",
       "<style scoped>\n",
       "    .dataframe tbody tr th:only-of-type {\n",
       "        vertical-align: middle;\n",
       "    }\n",
       "\n",
       "    .dataframe tbody tr th {\n",
       "        vertical-align: top;\n",
       "    }\n",
       "\n",
       "    .dataframe thead th {\n",
       "        text-align: right;\n",
       "    }\n",
       "</style>\n",
       "<table border=\"1\" class=\"dataframe\">\n",
       "  <thead>\n",
       "    <tr style=\"text-align: right;\">\n",
       "      <th></th>\n",
       "      <th>Metric</th>\n",
       "      <th>Count</th>\n",
       "      <th>Percent</th>\n",
       "    </tr>\n",
       "  </thead>\n",
       "  <tbody>\n",
       "    <tr>\n",
       "      <th>0</th>\n",
       "      <td>Present in Inventory</td>\n",
       "      <td>9826</td>\n",
       "      <td>87.373288</td>\n",
       "    </tr>\n",
       "    <tr>\n",
       "      <th>1</th>\n",
       "      <td>Present in IPAM</td>\n",
       "      <td>10512</td>\n",
       "      <td>93.473235</td>\n",
       "    </tr>\n",
       "    <tr>\n",
       "      <th>2</th>\n",
       "      <td>Present in BOTH</td>\n",
       "      <td>9171</td>\n",
       "      <td>81.548995</td>\n",
       "    </tr>\n",
       "  </tbody>\n",
       "</table>\n",
       "</div>"
      ],
      "text/plain": [
       "                 Metric  Count    Percent\n",
       "0  Present in Inventory   9826  87.373288\n",
       "1       Present in IPAM  10512  93.473235\n",
       "2       Present in BOTH   9171  81.548995"
      ]
     },
     "metadata": {},
     "output_type": "display_data"
    }
   ],
   "source": [
    "display_presence_summary(default_stats, \"Default Scenario\")"
   ]
  },
  {
   "cell_type": "code",
   "execution_count": 9,
   "id": "c4262c94",
   "metadata": {},
   "outputs": [
    {
     "data": {
      "text/markdown": [
       "\n",
       "### Completeness Statistical Test (Default Scenario)\n",
       "\n",
       "| Metric               | Value                |\n",
       "|----------------------|----------------------|\n",
       "| Null Hypothesis (H₀) | Completeness ≤ 75%   |\n",
       "| Alternative (H₁)     | Completeness > 75%   |\n",
       "| Observed Rate        | 81.55% |\n",
       "| Z-statistic          | 17.9042        |\n",
       "| P-value              | 5.4699e-72       |\n",
       "| Alpha (α)            | 0.05               |\n",
       "| Result               | ✅ Reject H₀ – completeness is statistically significant.       |\n"
      ],
      "text/plain": [
       "<IPython.core.display.Markdown object>"
      ]
     },
     "metadata": {},
     "output_type": "display_data"
    }
   ],
   "source": [
    "evaluate_completeness(default_stats, \"Default Scenario\")"
   ]
  },
  {
   "cell_type": "code",
   "execution_count": 10,
   "id": "c3984af4",
   "metadata": {},
   "outputs": [],
   "source": [
    "# Save significance result for use in conclusion\n",
    "_, _, default_completeness_significant = run_completeness_test(\n",
    "    default_stats[\"present_all\"], default_stats[\"total_assets\"]\n",
    ")"
   ]
  },
  {
   "cell_type": "code",
   "execution_count": 11,
   "id": "e5f3fef0",
   "metadata": {},
   "outputs": [
    {
     "data": {
      "text/markdown": [
       "\n",
       "### Predictive Model Evaluation (Default Scenario)\n",
       "\n",
       "| Model            | Accuracy | Weighted F1-Score | Result            |\n",
       "|------------------|----------|-------------------|-------------------|\n",
       "| Inventory Model | 88.58% | 0.87 | ✅ Meets benchmark |\n",
       "| IPAM Model      | 93.16% | 0.90 | ✅ Meets benchmark |\n",
       "\n",
       "**Benchmark:** F1-Score ≥ 0.80 required for success.\n"
      ],
      "text/plain": [
       "<IPython.core.display.Markdown object>"
      ]
     },
     "metadata": {},
     "output_type": "display_data"
    }
   ],
   "source": [
    "# Evaluate models\n",
    "inventory_eval = evaluate_model(\"reports/inventory/inventory_classification_report.json\", \"Inventory Model\")\n",
    "ipam_eval = evaluate_model(\"reports/ipam/ipam_classification_report.json\", \"IPAM Model\")\n",
    "\n",
    "evaluate_models(\"reports/inventory/inventory_classification_report.json\",\n",
    "                \"reports/ipam/ipam_classification_report.json\",\n",
    "                \"Default Scenario\")"
   ]
  },
  {
   "cell_type": "code",
   "execution_count": 12,
   "id": "b6e85483",
   "metadata": {},
   "outputs": [
    {
     "data": {
      "text/markdown": [
       "### Generated Report Images (Default Scenario)"
      ],
      "text/plain": [
       "<IPython.core.display.Markdown object>"
      ]
     },
     "metadata": {},
     "output_type": "display_data"
    },
    {
     "data": {
      "text/markdown": [
       "**inventory\\inventory_feature_importance.png**"
      ],
      "text/plain": [
       "<IPython.core.display.Markdown object>"
      ]
     },
     "metadata": {},
     "output_type": "display_data"
    },
    {
     "data": {
      "image/png": "[encoded data removed]",
      "text/plain": [
       "<IPython.core.display.Image object>"
      ]
     },
     "metadata": {},
     "output_type": "display_data"
    },
    {
     "data": {
      "text/markdown": [
       "**ipam\\ipam_feature_importance.png**"
      ],
      "text/plain": [
       "<IPython.core.display.Markdown object>"
      ]
     },
     "metadata": {},
     "output_type": "display_data"
    },
    {
     "data": {
      "image/png": "[encoded data removed]",
      "text/plain": [
       "<IPython.core.display.Image object>"
      ]
     },
     "metadata": {},
     "output_type": "display_data"
    }
   ],
   "source": [
    "display_report_images(\"Default Scenario\")"
   ]
  },
  {
   "cell_type": "markdown",
   "id": "72061c03",
   "metadata": {},
   "source": [
    "# Conclusion"
   ]
  },
  {
   "cell_type": "code",
   "execution_count": 23,
   "id": "b3659854",
   "metadata": {},
   "outputs": [
    {
     "data": {
      "text/markdown": [
       "\n",
       "## Conclusion (Default Scenario)\n",
       "\n",
       "The analysis confirms that the original asset presence rate across systems **meets** the 75% threshold and is statistically significant based on the statistical test.\n",
       "\n",
       "Out of **11,246** observability assets:\n",
       "- **9,821** (87.3%) were found in the Inventory system.\n",
       "- **10,515** (93.5%) were found in IPAM.\n",
       "- **9,178** (81.6%) were present in both systems.\n",
       "\n",
       "Model performance evaluation:\n",
       "- The Inventory model **met** the benchmark (F1 ≥ 0.80).\n",
       "- The IPAM model **met** the benchmark (F1 ≥ 0.80).\n",
       "\n",
       "Key features driving missingness include: **region, role**.\n",
       "\n",
       "Beyond validating data completeness, these insights enable the organization to focus audit efforts \n",
       "on specific processes, automation, or staff actions most likely to cause data gaps. \n",
       "This data-driven approach not only supports immediate project goals but also lays the groundwork for \n",
       "long-term improvements in asset data quality and system reliability.\n"
      ],
      "text/plain": [
       "<IPython.core.display.Markdown object>"
      ]
     },
     "metadata": {},
     "output_type": "display_data"
    }
   ],
   "source": [
    "display_conclusion(\n",
    "    default_stats,\n",
    "    \"Default Scenario\",\n",
    "    completeness_significant=default_completeness_significant,\n",
    "    inventory_eval=inventory_eval,\n",
    "    ipam_eval=ipam_eval,\n",
    "    key_features=[\"region\", \"role\"]\n",
    ")"
   ]
  },
  {
   "cell_type": "markdown",
   "id": "00699d99",
   "metadata": {},
   "source": [
    "# Analysis demonstrating alternative data generation scenarios\n",
    "\n",
    "To validate that our ML model would make different predictions given different failures, we ran an alternative config to validate"
   ]
  },
  {
   "cell_type": "code",
   "execution_count": 14,
   "id": "c75f5a82",
   "metadata": {},
   "outputs": [
    {
     "data": {
      "text/markdown": [
       "### Contents of `config/alt_scenario_generation_params.json`:"
      ],
      "text/plain": [
       "<IPython.core.display.Markdown object>"
      ]
     },
     "metadata": {},
     "output_type": "display_data"
    },
    {
     "data": {
      "text/markdown": [
       "```json\n",
       "{\n",
       "    \"IPAM_REGION_MISSING_PROBS\": {\n",
       "        \"northeast\": 0.01,\n",
       "        \"northwest\": 0.01,\n",
       "        \"central\": 0.01,\n",
       "        \"east\": 0.02,\n",
       "        \"west\": 0.45,\n",
       "        \"southeast\": 0.03,\n",
       "        \"southwest\": 0.01\n",
       "    },\n",
       "    \"INVENTORY_MODEL_MISSING_PROBS\": {\n",
       "        \"ISR4431\": 0.01,\n",
       "        \"SRX345\": 0.03,\n",
       "        \"ETX-2\": 0.02,\n",
       "        \"MX204\": 0.01,\n",
       "        \"NCS540\": 0.05,\n",
       "        \"7750 SR-1\": 0.01,\n",
       "        \"7280R\": 0.03,\n",
       "        \"FSP3000\": 0.1,\n",
       "        \"FSP150\": 0.87,\n",
       "        \"QFX5120\": 0.91,\n",
       "        \"7050X3\": 0.02,\n",
       "        \"Catalyst9300\": 0.03\n",
       "    },\n",
       "    \"DEFAULT_MODEL_FAILURE_PROB\": 0.1,\n",
       "    \"DEFAULT_REGION_FAILURE_PROB\": 0.1\n",
       "}\n",
       "```"
      ],
      "text/plain": [
       "<IPython.core.display.Markdown object>"
      ]
     },
     "metadata": {},
     "output_type": "display_data"
    }
   ],
   "source": [
    "# display_config(alt_config)\n",
    "display_config(alt_config)"
   ]
  },
  {
   "cell_type": "code",
   "execution_count": 16,
   "id": "9dde9e1a",
   "metadata": {},
   "outputs": [
    {
     "name": "stdout",
     "output_type": "stream",
     "text": [
      "\n",
      "--- Running: Generate ---\n",
      "mlflow run . -e generate --env-manager=local -P config=config/alt_scenario_generation_params.json\n",
      "\n"
     ]
    },
    {
     "name": "stdout",
     "output_type": "stream",
     "text": [
      "\n",
      "✅ Step 'Generate' completed.\n",
      "\n",
      "\n",
      "--- Running: Prepare ---\n",
      "mlflow run . -e prepare --env-manager=local -P processed_dir=data/processed\n",
      "\n",
      "✅ Enriched dataset written to: data/processed\\labeled_asset_dataset_enriched.csv\n",
      "\n",
      "✅ Step 'Prepare' completed.\n",
      "\n",
      "\n",
      "--- Running: Train Both ---\n",
      "mlflow run . -e train-both --env-manager=local\n",
      "\n",
      "--- Model Report ---\n",
      "              precision    recall  f1-score   support\n",
      "\n",
      "           0       0.97      0.97      0.97      1830\n",
      "           1       0.88      0.88      0.88       420\n",
      "\n",
      "    accuracy                           0.96      2250\n",
      "   macro avg       0.93      0.93      0.93      2250\n",
      "weighted avg       0.96      0.96      0.96      2250\n",
      "\n",
      "--- Model Report ---\n",
      "              precision    recall  f1-score   support\n",
      "\n",
      "           0       0.93      0.98      0.95      2066\n",
      "           1       0.41      0.16      0.23       184\n",
      "\n",
      "    accuracy                           0.91      2250\n",
      "   macro avg       0.67      0.57      0.59      2250\n",
      "weighted avg       0.89      0.91      0.89      2250\n",
      "\n",
      "\n",
      "✅ Step 'Train Both' completed.\n",
      "\n"
     ]
    }
   ],
   "source": [
    "# Run the pipeline for the alternative scenario\n",
    "alt_df = run_pipeline(\n",
    "    dataset_path=\"data/processed/labeled_asset_dataset_enriched.csv\",\n",
    "    alt_config=\"config/alt_scenario_generation_params.json\",\n",
    "    steps=[\"generate\", \"prepare\", \"train-both\"]\n",
    ")"
   ]
  },
  {
   "cell_type": "code",
   "execution_count": 17,
   "id": "bfeb42fe",
   "metadata": {},
   "outputs": [],
   "source": [
    "# Calculate presence statistics\n",
    "alt_stats = calculate_presence_stats(alt_df)"
   ]
  },
  {
   "cell_type": "code",
   "execution_count": 18,
   "id": "48ed0d60",
   "metadata": {},
   "outputs": [
    {
     "name": "stdout",
     "output_type": "stream",
     "text": [
      "\n",
      "=== Alternative Scenario Presence Summary ===\n",
      "Total Observability Assets: 11,246\n",
      "Present in Inventory: 9,148 (81.3%)\n",
      "Present in IPAM: 10,327 (91.8%)\n",
      "Present in BOTH: 8,395 (74.6%)\n"
     ]
    },
    {
     "data": {
      "text/html": [
       "<div>\n",
       "<style scoped>\n",
       "    .dataframe tbody tr th:only-of-type {\n",
       "        vertical-align: middle;\n",
       "    }\n",
       "\n",
       "    .dataframe tbody tr th {\n",
       "        vertical-align: top;\n",
       "    }\n",
       "\n",
       "    .dataframe thead th {\n",
       "        text-align: right;\n",
       "    }\n",
       "</style>\n",
       "<table border=\"1\" class=\"dataframe\">\n",
       "  <thead>\n",
       "    <tr style=\"text-align: right;\">\n",
       "      <th></th>\n",
       "      <th>Metric</th>\n",
       "      <th>Count</th>\n",
       "      <th>Percent</th>\n",
       "    </tr>\n",
       "  </thead>\n",
       "  <tbody>\n",
       "    <tr>\n",
       "      <th>0</th>\n",
       "      <td>Present in Inventory</td>\n",
       "      <td>9148</td>\n",
       "      <td>81.344478</td>\n",
       "    </tr>\n",
       "    <tr>\n",
       "      <th>1</th>\n",
       "      <td>Present in IPAM</td>\n",
       "      <td>10327</td>\n",
       "      <td>91.828206</td>\n",
       "    </tr>\n",
       "    <tr>\n",
       "      <th>2</th>\n",
       "      <td>Present in BOTH</td>\n",
       "      <td>8395</td>\n",
       "      <td>74.648764</td>\n",
       "    </tr>\n",
       "  </tbody>\n",
       "</table>\n",
       "</div>"
      ],
      "text/plain": [
       "                 Metric  Count    Percent\n",
       "0  Present in Inventory   9148  81.344478\n",
       "1       Present in IPAM  10327  91.828206\n",
       "2       Present in BOTH   8395  74.648764"
      ]
     },
     "metadata": {},
     "output_type": "display_data"
    }
   ],
   "source": [
    "# Display quick summary\n",
    "display_presence_summary(alt_stats, \"Alternative Scenario\")"
   ]
  },
  {
   "cell_type": "code",
   "execution_count": 19,
   "id": "524cf8f3",
   "metadata": {},
   "outputs": [
    {
     "data": {
      "text/markdown": [
       "\n",
       "### Completeness Statistical Test (Alternative Scenario)\n",
       "\n",
       "| Metric               | Value                |\n",
       "|----------------------|----------------------|\n",
       "| Null Hypothesis (H₀) | Completeness ≤ 75%   |\n",
       "| Alternative (H₁)     | Completeness > 75%   |\n",
       "| Observed Rate        | 74.65% |\n",
       "| Z-statistic          | -0.8562        |\n",
       "| P-value              | 8.0406e-01       |\n",
       "| Alpha (α)            | 0.05               |\n",
       "| Result               | ❌ Fail to reject H₀ – completeness is not statistically significant.       |\n"
      ],
      "text/plain": [
       "<IPython.core.display.Markdown object>"
      ]
     },
     "metadata": {},
     "output_type": "display_data"
    }
   ],
   "source": [
    "# Evaluate completeness (statistical test)\n",
    "evaluate_completeness(alt_stats, \"Alternative Scenario\")"
   ]
  },
  {
   "cell_type": "code",
   "execution_count": 20,
   "id": "1311c2f4",
   "metadata": {},
   "outputs": [],
   "source": [
    "# Save significance result for use in conclusion\n",
    "_, _, alt_completeness_significant = run_completeness_test(\n",
    "    alt_stats[\"present_all\"],\n",
    "    alt_stats[\"total_assets\"]\n",
    ")"
   ]
  },
  {
   "cell_type": "code",
   "execution_count": 21,
   "id": "c7309fd7",
   "metadata": {},
   "outputs": [
    {
     "data": {
      "text/markdown": [
       "\n",
       "### Predictive Model Evaluation (Alternative Scenario)\n",
       "\n",
       "| Model            | Accuracy | Weighted F1-Score | Result            |\n",
       "|------------------|----------|-------------------|-------------------|\n",
       "| Inventory Model | 95.56% | 0.96 | ✅ Meets benchmark |\n",
       "| IPAM Model      | 91.24% | 0.89 | ✅ Meets benchmark |\n",
       "\n",
       "**Benchmark:** F1-Score ≥ 0.80 required for success.\n"
      ],
      "text/plain": [
       "<IPython.core.display.Markdown object>"
      ]
     },
     "metadata": {},
     "output_type": "display_data"
    }
   ],
   "source": [
    "# Evaluate models\n",
    "inventory_eval_alt = evaluate_model(\"reports/inventory/inventory_classification_report.json\", \"Inventory Model\")\n",
    "ipam_eval_alt = evaluate_model(\"reports/ipam/ipam_classification_report.json\", \"IPAM Model\")\n",
    "\n",
    "\n",
    "evaluate_models(\n",
    "    \"reports/inventory/inventory_classification_report.json\",\n",
    "    \"reports/ipam/ipam_classification_report.json\",\n",
    "    \"Alternative Scenario\"\n",
    ")"
   ]
  },
  {
   "cell_type": "code",
   "execution_count": 22,
   "id": "0425686a",
   "metadata": {},
   "outputs": [
    {
     "data": {
      "text/markdown": [
       "### Generated Report Images (Alternative Scenario)"
      ],
      "text/plain": [
       "<IPython.core.display.Markdown object>"
      ]
     },
     "metadata": {},
     "output_type": "display_data"
    },
    {
     "data": {
      "text/markdown": [
       "**inventory\\inventory_feature_importance.png**"
      ],
      "text/plain": [
       "<IPython.core.display.Markdown object>"
      ]
     },
     "metadata": {},
     "output_type": "display_data"
    },
    {
     "data": {
      "image/png": "[encoded data removed]",
      "text/plain": [
       "<IPython.core.display.Image object>"
      ]
     },
     "metadata": {},
     "output_type": "display_data"
    },
    {
     "data": {
      "text/markdown": [
       "**ipam\\ipam_feature_importance.png**"
      ],
      "text/plain": [
       "<IPython.core.display.Markdown object>"
      ]
     },
     "metadata": {},
     "output_type": "display_data"
    },
    {
     "data": {
      "image/png": "[encoded data removed]",
      "text/plain": [
       "<IPython.core.display.Image object>"
      ]
     },
     "metadata": {},
     "output_type": "display_data"
    }
   ],
   "source": [
    "# Display generated report images\n",
    "display_report_images(\"Alternative Scenario\")"
   ]
  },
  {
   "cell_type": "code",
   "execution_count": 24,
   "id": "129ac4b1",
   "metadata": {},
   "outputs": [
    {
     "data": {
      "text/markdown": [
       "\n",
       "## Conclusion (Alternative Scenario)\n",
       "\n",
       "The analysis confirms that the original asset presence rate across systems **does not meet** the 75% threshold and is not statistically significant based on the statistical test.\n",
       "\n",
       "Out of **11,246** observability assets:\n",
       "- **9,139** (81.3%) were found in the Inventory system.\n",
       "- **10,325** (91.8%) were found in IPAM.\n",
       "- **8,387** (74.6%) were present in both systems.\n",
       "\n",
       "Model performance evaluation:\n",
       "- The Inventory model **met** the benchmark (F1 ≥ 0.80).\n",
       "- The IPAM model **met** the benchmark (F1 ≥ 0.80).\n",
       "\n",
       "Key features driving missingness include: **region, role**.\n",
       "\n",
       "Beyond validating data completeness, these insights enable the organization to focus audit efforts \n",
       "on specific processes, automation, or staff actions most likely to cause data gaps. \n",
       "This data-driven approach not only supports immediate project goals but also lays the groundwork for \n",
       "long-term improvements in asset data quality and system reliability.\n"
      ],
      "text/plain": [
       "<IPython.core.display.Markdown object>"
      ]
     },
     "metadata": {},
     "output_type": "display_data"
    }
   ],
   "source": [
    "# Display conclusion for alternative scenario\n",
    "display_conclusion(\n",
    "    alt_stats,\n",
    "    \"Alternative Scenario\",\n",
    "    completeness_significant=alt_completeness_significant,\n",
    "    inventory_eval=inventory_eval_alt,\n",
    "    ipam_eval=ipam_eval_alt,\n",
    "    key_features=[\"region\", \"role\"] \n",
    ")"
   ]
  }
 ],
 "metadata": {
  "kernelspec": {
   "display_name": "venv",
   "language": "python",
   "name": "python3"
  },
  "language_info": {
   "name": "python",
   "version": "3.11.9"
  }
 },
 "nbformat": 4,
 "nbformat_minor": 5
}
